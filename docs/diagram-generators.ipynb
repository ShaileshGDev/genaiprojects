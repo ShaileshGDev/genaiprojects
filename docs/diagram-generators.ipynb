{
 "cells": [
  {
   "cell_type": "markdown",
   "id": "3ade5f05-b90c-4878-bc4f-b869e63eefb7",
   "metadata": {},
   "source": [
    "## architecture-diagram-generator"
   ]
  },
  {
   "cell_type": "markdown",
   "id": "24a8e723-8bf8-4b4b-9eaa-892d5887b1ee",
   "metadata": {},
   "source": [
    "- https://www.eraser.io/ai/architecture-diagram-generator\n",
    "- https://app.eraser.io/workspace/ISUmPCmj91M6tzq7cyf5"
   ]
  },
  {
   "cell_type": "code",
   "execution_count": null,
   "id": "832dcaa9-18f8-47b2-822f-2e0319f9bb2d",
   "metadata": {},
   "outputs": [],
   "source": []
  }
 ],
 "metadata": {
  "kernelspec": {
   "display_name": "Python 3 (ipykernel)",
   "language": "python",
   "name": "python3"
  },
  "language_info": {
   "codemirror_mode": {
    "name": "ipython",
    "version": 3
   },
   "file_extension": ".py",
   "mimetype": "text/x-python",
   "name": "python",
   "nbconvert_exporter": "python",
   "pygments_lexer": "ipython3",
   "version": "3.12.3"
  }
 },
 "nbformat": 4,
 "nbformat_minor": 5
}
