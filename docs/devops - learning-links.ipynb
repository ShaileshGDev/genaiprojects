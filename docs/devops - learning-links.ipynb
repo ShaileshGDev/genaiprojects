{
 "cells": [
  {
   "cell_type": "markdown",
   "id": "87ad16ab-30b0-457b-9cf4-d47c956258fc",
   "metadata": {},
   "source": [
    "## git hub links"
   ]
  },
  {
   "cell_type": "markdown",
   "id": "552fb1cf-e3e6-4ab6-9428-0a4cef87c722",
   "metadata": {},
   "source": [
    "-  \n",
    "\n",
    "### Azure \n",
    "-  \n",
    "\n",
    "### LLMOps\n",
    "-   "
   ]
  },
  {
   "cell_type": "markdown",
   "id": "690a0709-bb03-4a05-a7a4-acbbccaa5183",
   "metadata": {},
   "source": [
    "## youtube links"
   ]
  },
  {
   "cell_type": "markdown",
   "id": "f4555ac7-fc99-45dc-bd7c-50401b8caf13",
   "metadata": {},
   "source": [
    "### AI Assistants for structured data\n",
    " "
   ]
  },
  {
   "cell_type": "markdown",
   "id": "7374a9db-71d0-48dc-8e43-6608e5176abf",
   "metadata": {},
   "source": [
    "## blogs"
   ]
  },
  {
   "cell_type": "markdown",
   "id": "6a7f809a-1638-4d86-8838-0266bbc635fb",
   "metadata": {},
   "source": [
    "-  https://dev.to/dipe_/deploying-a-fastapi-application-with-cicd-pipeline-hng-task-3-5598\n",
    "-  https://www.nakivo.com/blog/run-linux-hyper-v/"
   ]
  },
  {
   "cell_type": "markdown",
   "id": "b28216ac-d84d-422d-93e5-238e5fc08b85",
   "metadata": {},
   "source": [
    "## trainings"
   ]
  },
  {
   "cell_type": "markdown",
   "id": "2a8e1a09-d981-4127-8207-9820fb9655bd",
   "metadata": {},
   "source": [
    "-  "
   ]
  },
  {
   "cell_type": "markdown",
   "id": "14fee26d-99b8-4b2b-ab9f-983fdcc2f032",
   "metadata": {},
   "source": [
    "## road maps"
   ]
  },
  {
   "cell_type": "markdown",
   "id": "4f158629-598e-4918-8cf2-fb435a0af9b6",
   "metadata": {},
   "source": [
    "- "
   ]
  },
  {
   "cell_type": "markdown",
   "id": "61be872b-b352-412a-a908-d58c2d377048",
   "metadata": {},
   "source": [
    "## env"
   ]
  },
  {
   "cell_type": "markdown",
   "id": "1e821508-670e-42a8-b415-734e11630925",
   "metadata": {},
   "source": [
    "-  "
   ]
  }
 ],
 "metadata": {
  "kernelspec": {
   "display_name": "Python 3 (ipykernel)",
   "language": "python",
   "name": "python3"
  },
  "language_info": {
   "codemirror_mode": {
    "name": "ipython",
    "version": 3
   },
   "file_extension": ".py",
   "mimetype": "text/x-python",
   "name": "python",
   "nbconvert_exporter": "python",
   "pygments_lexer": "ipython3",
   "version": "3.12.3"
  }
 },
 "nbformat": 4,
 "nbformat_minor": 5
}
