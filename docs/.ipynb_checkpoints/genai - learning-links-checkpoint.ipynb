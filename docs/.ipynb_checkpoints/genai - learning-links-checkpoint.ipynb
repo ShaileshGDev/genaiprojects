{
 "cells": [
  {
   "cell_type": "markdown",
   "id": "87ad16ab-30b0-457b-9cf4-d47c956258fc",
   "metadata": {},
   "source": [
    "## git hub links"
   ]
  },
  {
   "cell_type": "markdown",
   "id": "552fb1cf-e3e6-4ab6-9428-0a4cef87c722",
   "metadata": {},
   "source": [
    "- https://github.com/pdichone/database-ai-agents\n",
    "- https://github.com/defog-ai/sqlcoder?tab=readme-ov-file\n",
    "\n",
    "### Azure \n",
    "- Code examples for Cognitive Services Quickstarts : https://github.com/Azure-Samples/cognitive-services-quickstart-code/tree/master\n",
    "- https://github.com/Azure-Samples/cognitive-services-REST-api-samples\n",
    "- AI102Files : https://github.com/gottagetgit/AI102Files\n",
    "- AI-102-AIEngineer : https://github.com/MicrosoftLearning/AI-102-AIEngineer\n",
    "- Youtube-Tutorials : https://github.com/PradipNichite/Youtube-Tutorials/tree/main\n",
    "- NL2SQL with LlamaIndex: Querying Databases Using Natural Language | Code : https://www.youtube.com/watch?v=ZRSI8LHpqBA\n",
    "- https://github.com/microsoft/rag-time\n",
    "\n",
    "### LLMOps\n",
    "-  LLMOps with ChatGPT  : https://github.com/manifoldailearning/llmops-chatgpt-huggingface"
   ]
  },
  {
   "cell_type": "markdown",
   "id": "690a0709-bb03-4a05-a7a4-acbbccaa5183",
   "metadata": {},
   "source": [
    "## youtube links"
   ]
  },
  {
   "cell_type": "markdown",
   "id": "f4555ac7-fc99-45dc-bd7c-50401b8caf13",
   "metadata": {},
   "source": [
    "### AI Assistants for structured data\n",
    "- Chat with SQL and Tabular Databases using LLM Agents:  https://www.youtube.com/watch?v=ZtltjSjFPDg\n",
    "- Chat with Multiple/Large SQL and Vector Databases using LLM agents (Combine RAG and SQL-Agents) https://www.youtube.com/watch?v=xsCedrNP9w8\n",
    "- Chat and RAG with Tabular Databases Using Knowledge Graph and LLM Agents : https://www.youtube.com/watch?v=3NP1llvtrbI\n",
    "- Mastering Natural Language to SQL with LangChain and LangSmith | NL2SQL | With Code : https://www.youtube.com/watch?v=fss6CrmQU2Y&t=429s\n",
    "\n",
    "### Fine tunning Models\n",
    "- EASIEST Way to Fine-Tune a LLM and Use It With Ollama : https://www.youtube.com/watch?v=pxhkDaKzBaY\n",
    "- How to Fine-Tune Qwen-2 for Free | Open-Source LLM Guide : https://www.youtube.com/watch?v=f9Fi9IKa-0M"
   ]
  },
  {
   "cell_type": "markdown",
   "id": "7374a9db-71d0-48dc-8e43-6608e5176abf",
   "metadata": {},
   "source": [
    "## blogs"
   ]
  },
  {
   "cell_type": "markdown",
   "id": "6a7f809a-1638-4d86-8838-0266bbc635fb",
   "metadata": {},
   "source": [
    "- https://blog.futuresmart.ai/mastering-natural-language-to-sql-with-langchain-nl2sql\n",
    "- https://blog.futuresmart.ai/\n",
    "- https://medium.com/google-cloud/genaiops-operationalize-generative-ai-a-practical-guide-d5bedaa59d78\n",
    "- https://docs.rafay.co/blog/\n",
    "- https://techcommunity.microsoft.com/blog/healthcareandlifesciencesblog/fabric-ai-skill---example-ai-agent-for-your-data-using-healthcare-data/4364416\n",
    "- https://devblogs.microsoft.com/azure-sql/make-data-more-human-with-azure-openai-and-azure-sql/\n",
    "- https://rahulranjan.org/2025/01/28/how-to-install-deepseek-locally-and-run-it-with-ollama-or-any-other-model/\n",
    "- https://qdrant.tech/documentation/rag-deepseek/\n",
    "- https://www.microsoft.com/en-in/aifirstmovers/psspl-vector-management\n",
    "### Fine tunning \n",
    "- https://defog.ai/blog/sqlcoder2-technical-details\n",
    "- https://www.comet.com/site/blog/selfcheckgpt-for-llm-evaluation/\n"
   ]
  },
  {
   "cell_type": "markdown",
   "id": "b28216ac-d84d-422d-93e5-238e5fc08b85",
   "metadata": {},
   "source": [
    "## trainings"
   ]
  },
  {
   "cell_type": "markdown",
   "id": "2a8e1a09-d981-4127-8207-9820fb9655bd",
   "metadata": {},
   "source": [
    "- https://scrimba.com/topics\n",
    "- https://applied-llms.org/\n",
    "- https://blog.dailydoseofds.com/p/hands-on-100-local-rag-using-deepseek\n",
    "- https://parlance-labs.com/education/evals/ankur.html\n",
    "- https://learn.deeplearning.ai/\n",
    "- https://www.deeplearning.ai/short-courses/langchain-for-llm-application-development/\n",
    "- https://www.deeplearning.ai/short-courses/langchain-chat-with-your-data/\n",
    "- https://www.deeplearning.ai/short-courses/functions-tools-agents-langchain/\n",
    "- https://www.youtube.com/@krishnaik06?app=desktop\n",
    "\n",
    "### .Net\n",
    "- https://www.coursera.org/professional-certificates/microsoft-full-stack-developer\n",
    "- https://www.coursera.org/specializations/dot-net-fullstack"
   ]
  },
  {
   "cell_type": "markdown",
   "id": "14fee26d-99b8-4b2b-ab9f-983fdcc2f032",
   "metadata": {},
   "source": [
    "## road maps"
   ]
  },
  {
   "cell_type": "markdown",
   "id": "4f158629-598e-4918-8cf2-fb435a0af9b6",
   "metadata": {},
   "source": [
    "- https://www.youtube.com/watch?v=nJ25yl34Uqw"
   ]
  },
  {
   "cell_type": "markdown",
   "id": "61be872b-b352-412a-a908-d58c2d377048",
   "metadata": {},
   "source": [
    "## env"
   ]
  },
  {
   "cell_type": "markdown",
   "id": "1e821508-670e-42a8-b415-734e11630925",
   "metadata": {},
   "source": [
    "- https://cloud.aperturedata.io/"
   ]
  },
  {
   "cell_type": "markdown",
   "id": "0fe03ec7-ea39-41a3-97c0-d23052910aba",
   "metadata": {},
   "source": [
    "## testing"
   ]
  },
  {
   "cell_type": "markdown",
   "id": "3b188724-2559-43ba-a623-53ece9f8becb",
   "metadata": {},
   "source": [
    "- https://www.postman.com/ai-on-postman/postman-ai-agent-builder/overview"
   ]
  },
  {
   "cell_type": "code",
   "execution_count": null,
   "id": "965bed5d-a54e-4df1-927b-70d850a40b47",
   "metadata": {},
   "outputs": [],
   "source": []
  }
 ],
 "metadata": {
  "kernelspec": {
   "display_name": "Python 3 (ipykernel)",
   "language": "python",
   "name": "python3"
  },
  "language_info": {
   "codemirror_mode": {
    "name": "ipython",
    "version": 3
   },
   "file_extension": ".py",
   "mimetype": "text/x-python",
   "name": "python",
   "nbconvert_exporter": "python",
   "pygments_lexer": "ipython3",
   "version": "3.12.3"
  }
 },
 "nbformat": 4,
 "nbformat_minor": 5
}
