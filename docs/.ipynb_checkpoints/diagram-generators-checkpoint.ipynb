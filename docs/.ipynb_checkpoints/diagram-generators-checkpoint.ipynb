{
 "cells": [
  {
   "cell_type": "markdown",
   "id": "3ade5f05-b90c-4878-bc4f-b869e63eefb7",
   "metadata": {},
   "source": [
    "## architecture-diagram-generator"
   ]
  },
  {
   "cell_type": "code",
   "execution_count": null,
   "id": "94741d3d-0aa0-4428-933a-fe3f7f2b892d",
   "metadata": {},
   "outputs": [],
   "source": [
    "- https://www.eraser.io/ai/architecture-diagram-generator\n",
    "- https://app.eraser.io/workspace/ISUmPCmj91M6tzq7cyf5"
   ]
  }
 ],
 "metadata": {
  "kernelspec": {
   "display_name": "Python 3 (ipykernel)",
   "language": "python",
   "name": "python3"
  },
  "language_info": {
   "codemirror_mode": {
    "name": "ipython",
    "version": 3
   },
   "file_extension": ".py",
   "mimetype": "text/x-python",
   "name": "python",
   "nbconvert_exporter": "python",
   "pygments_lexer": "ipython3",
   "version": "3.12.3"
  }
 },
 "nbformat": 4,
 "nbformat_minor": 5
}
