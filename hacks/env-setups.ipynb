{
 "cells": [
  {
   "cell_type": "markdown",
   "id": "a2db7b85-cd50-48ba-9fd0-5a692eb031c5",
   "metadata": {},
   "source": [
    "# virtual environment : \n",
    "- python -m venv llm-jupyter\n",
    "\n",
    "# command to install jupyter \n",
    "- pip install jupyterlab notebook\n",
    "- jupyter lab\n",
    "\n",
    "# How to connect to notebook from linux vm juypter \n",
    "\n",
    "In linux \n",
    "jupyter notebook --no-browser --port=8899\n",
    "\n",
    "In windows\n",
    "\n",
    "ssh -N -L 8899:localhost:8899 sg@172.19.134.12\n",
    "\n",
    "http://localhost:8899/tree?token=8d684b494ba113fc4ff0df05982ec9853c640cdd7cebe197\n",
    " \n",
    "\n",
    "If port already used , then in powershell \n",
    "\n",
    " netstat -ano | findstr :8888\n",
    "taskkill /PID <PID> /F\n",
    "\n",
    "[for llm-jupyter]\n",
    "- pip install pyodc\n",
    "\n",
    "# extract requirements from working environment\n",
    "- pip install -r requirements.txt\n",
    "- pip freeze > requirements.txt\n",
    "\n",
    "# for ubuntu : \n",
    "- sudo apt update\n",
    "- sudo apt install python3-pip\n",
    "- pip3 --version\n",
    "\n",
    "- python3 --version\n",
    "- sudo update-alternatives --install /usr/bin/python python /usr/bin/python3 1\n",
    "- python --version\n",
    "\n",
    "\n",
    "- sudo apt install python3-venv\n",
    "- python3 -m venv myenv\n",
    "- source myenv/bin/activate\n",
    "- deactivate\n",
    "\n",
    "\n",
    "\n",
    "# convert to notebook from python file\n",
    "- jupytext --to notebook chat_window.py\n",
    "\n",
    "\n",
    "\n",
    "\n",
    "\n",
    "\n",
    "# Key installations\n",
    "- pip install pandoc \n",
    "- https://github.com/jgm/pandoc/releases/download/3.3/pandoc-3.3-windows-x86_64.msi\n",
    "\n",
    "- pip install duckdb pandas\n",
    "\n",
    " "
   ]
  },
  {
   "cell_type": "markdown",
   "id": "5e5c326f-69a7-48d2-88fd-c5636f11509c",
   "metadata": {},
   "source": [
    "# Pull Ollama models locally"
   ]
  },
  {
   "cell_type": "code",
   "execution_count": null,
   "id": "74a65b03-7c48-46a2-832d-102286e80118",
   "metadata": {},
   "outputs": [],
   "source": [
    "curl -fsSL https://ollama.com/install.sh | sh\n",
    "ollama pull deepseek-r1\n",
    "ollama run deepseek-r1:1.5b"
   ]
  },
  {
   "cell_type": "markdown",
   "id": "ab212916-ce46-4184-bf90-87965bb1713f",
   "metadata": {},
   "source": [
    "# Setup Git"
   ]
  },
  {
   "cell_type": "code",
   "execution_count": null,
   "id": "de558b83-8373-44f3-8670-0135cd25d9f7",
   "metadata": {},
   "outputs": [],
   "source": [
    "--git\n",
    "git config --global user.name \"ShaileshGDev\"\n",
    "git config --global user.email \"shailesh0g@gmail.com\"\n",
    "git clone https://github.com/ShaileshGDev/genaiprojects.git\n",
    "\n",
    "git branch\n",
    "git checkout dev\n",
    "git fetch\n",
    "\n",
    "ssh-keygen -t rsa -b 4096 -C \"shailesh0g@gmail.com\"\n",
    "cat ~/.ssh/id_rsa.pub\n",
    "Add it to GitHub/GitLab under SSH Keys.\n",
    "git remote set-url origin git@github.com:ShaileshGDev/genaiprojects.git\n",
    "\n",
    "git add .\n",
    "git commit -m \"Project Smollagent\"\n",
    "git push origin dev\n",
    "\n",
    "git branch -D branch-name\n",
    "\n",
    "git rm --cached -r ."
   ]
  },
  {
   "cell_type": "code",
   "execution_count": null,
   "id": "d22166be-9450-4b8a-962e-a32d14a1e65c",
   "metadata": {},
   "outputs": [],
   "source": []
  },
  {
   "cell_type": "markdown",
   "id": "38b7946d-07d9-4225-ab59-91c79534185c",
   "metadata": {},
   "source": []
  },
  {
   "cell_type": "markdown",
   "id": "86938e23-5288-4193-8c7d-751a7b5b7d6c",
   "metadata": {},
   "source": []
  },
  {
   "cell_type": "markdown",
   "id": "7f58c040-3c3c-4642-85fb-40faa7f8c9fa",
   "metadata": {},
   "source": []
  },
  {
   "cell_type": "markdown",
   "id": "f1997a15-1bbf-4099-bbba-310279ae1fa9",
   "metadata": {},
   "source": []
  },
  {
   "cell_type": "markdown",
   "id": "411431ae-1b29-42f2-83de-eb906e70769b",
   "metadata": {},
   "source": []
  },
  {
   "cell_type": "markdown",
   "id": "905faa8f-eb22-4d2c-ae7f-9ea3ab32029d",
   "metadata": {},
   "source": []
  },
  {
   "cell_type": "markdown",
   "id": "87fd52de-c538-4deb-8804-15f75212bd05",
   "metadata": {},
   "source": []
  },
  {
   "cell_type": "markdown",
   "id": "8339f3a3-f8b9-41ad-a72e-93b38f3f003b",
   "metadata": {},
   "source": []
  }
 ],
 "metadata": {
  "kernelspec": {
   "display_name": "Python 3 (ipykernel)",
   "language": "python",
   "name": "python3"
  },
  "language_info": {
   "codemirror_mode": {
    "name": "ipython",
    "version": 3
   },
   "file_extension": ".py",
   "mimetype": "text/x-python",
   "name": "python",
   "nbconvert_exporter": "python",
   "pygments_lexer": "ipython3",
   "version": "3.12.3"
  }
 },
 "nbformat": 4,
 "nbformat_minor": 5
}
