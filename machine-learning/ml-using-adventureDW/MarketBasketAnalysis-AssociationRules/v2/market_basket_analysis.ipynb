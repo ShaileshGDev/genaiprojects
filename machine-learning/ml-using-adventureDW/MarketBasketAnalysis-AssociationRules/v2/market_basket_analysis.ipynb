{
 "cells": [
  {
   "cell_type": "markdown",
   "id": "a70c6b79",
   "metadata": {},
   "source": [
    "# 🛒 Market Basket Analysis using Apriori"
   ]
  },
  {
   "cell_type": "code",
   "execution_count": 1,
   "id": "2bf8bd3f",
   "metadata": {},
   "outputs": [],
   "source": [
    "import pandas as pd\n",
    "from mlxtend.frequent_patterns import apriori, association_rules\n",
    "from mlxtend.preprocessing import TransactionEncoder"
   ]
  },
  {
   "cell_type": "code",
   "execution_count": 2,
   "id": "491e1f9a",
   "metadata": {},
   "outputs": [
    {
     "data": {
      "text/html": [
       "<div>\n",
       "<style scoped>\n",
       "    .dataframe tbody tr th:only-of-type {\n",
       "        vertical-align: middle;\n",
       "    }\n",
       "\n",
       "    .dataframe tbody tr th {\n",
       "        vertical-align: top;\n",
       "    }\n",
       "\n",
       "    .dataframe thead th {\n",
       "        text-align: right;\n",
       "    }\n",
       "</style>\n",
       "<table border=\"1\" class=\"dataframe\">\n",
       "  <thead>\n",
       "    <tr style=\"text-align: right;\">\n",
       "      <th></th>\n",
       "      <th>OrderID</th>\n",
       "      <th>Product</th>\n",
       "    </tr>\n",
       "  </thead>\n",
       "  <tbody>\n",
       "    <tr>\n",
       "      <th>0</th>\n",
       "      <td>1</td>\n",
       "      <td>Gloves</td>\n",
       "    </tr>\n",
       "    <tr>\n",
       "      <th>1</th>\n",
       "      <td>2</td>\n",
       "      <td>Bottle</td>\n",
       "    </tr>\n",
       "    <tr>\n",
       "      <th>2</th>\n",
       "      <td>2</td>\n",
       "      <td>Helmet</td>\n",
       "    </tr>\n",
       "    <tr>\n",
       "      <th>3</th>\n",
       "      <td>3</td>\n",
       "      <td>Helmet</td>\n",
       "    </tr>\n",
       "    <tr>\n",
       "      <th>4</th>\n",
       "      <td>4</td>\n",
       "      <td>Shoes</td>\n",
       "    </tr>\n",
       "  </tbody>\n",
       "</table>\n",
       "</div>"
      ],
      "text/plain": [
       "   OrderID Product\n",
       "0        1  Gloves\n",
       "1        2  Bottle\n",
       "2        2  Helmet\n",
       "3        3  Helmet\n",
       "4        4   Shoes"
      ]
     },
     "execution_count": 2,
     "metadata": {},
     "output_type": "execute_result"
    }
   ],
   "source": [
    "df = pd.read_csv(\"market_basket.csv\")\n",
    "df.head()"
   ]
  },
  {
   "cell_type": "code",
   "execution_count": 3,
   "id": "6b6ec688",
   "metadata": {},
   "outputs": [],
   "source": [
    "# Group into transactions\n",
    "transactions = df.groupby(\"OrderID\")['Product'].apply(list).tolist()"
   ]
  },
  {
   "cell_type": "code",
   "execution_count": 5,
   "id": "c44d276e",
   "metadata": {},
   "outputs": [],
   "source": [
    "# Encode\n",
    "te = TransactionEncoder()\n",
    "te_ary = te.fit(transactions).transform(transactions)\n",
    "df_encoded = pd.DataFrame(te_ary, columns=te.columns_)"
   ]
  },
  {
   "cell_type": "code",
   "execution_count": 6,
   "id": "fa06fdc8",
   "metadata": {},
   "outputs": [
    {
     "data": {
      "text/html": [
       "<div>\n",
       "<style scoped>\n",
       "    .dataframe tbody tr th:only-of-type {\n",
       "        vertical-align: middle;\n",
       "    }\n",
       "\n",
       "    .dataframe tbody tr th {\n",
       "        vertical-align: top;\n",
       "    }\n",
       "\n",
       "    .dataframe thead th {\n",
       "        text-align: right;\n",
       "    }\n",
       "</style>\n",
       "<table border=\"1\" class=\"dataframe\">\n",
       "  <thead>\n",
       "    <tr style=\"text-align: right;\">\n",
       "      <th></th>\n",
       "      <th>antecedents</th>\n",
       "      <th>consequents</th>\n",
       "      <th>support</th>\n",
       "      <th>confidence</th>\n",
       "      <th>lift</th>\n",
       "    </tr>\n",
       "  </thead>\n",
       "  <tbody>\n",
       "    <tr>\n",
       "      <th>0</th>\n",
       "      <td>(Jersey)</td>\n",
       "      <td>(Bike)</td>\n",
       "      <td>0.180</td>\n",
       "      <td>0.428571</td>\n",
       "      <td>1.071429</td>\n",
       "    </tr>\n",
       "    <tr>\n",
       "      <th>1</th>\n",
       "      <td>(Bike)</td>\n",
       "      <td>(Jersey)</td>\n",
       "      <td>0.180</td>\n",
       "      <td>0.450000</td>\n",
       "      <td>1.071429</td>\n",
       "    </tr>\n",
       "    <tr>\n",
       "      <th>2</th>\n",
       "      <td>(Jersey, Helmet)</td>\n",
       "      <td>(Bike)</td>\n",
       "      <td>0.071</td>\n",
       "      <td>0.420118</td>\n",
       "      <td>1.050296</td>\n",
       "    </tr>\n",
       "    <tr>\n",
       "      <th>5</th>\n",
       "      <td>(Bike)</td>\n",
       "      <td>(Jersey, Helmet)</td>\n",
       "      <td>0.071</td>\n",
       "      <td>0.177500</td>\n",
       "      <td>1.050296</td>\n",
       "    </tr>\n",
       "    <tr>\n",
       "      <th>3</th>\n",
       "      <td>(Bike, Helmet)</td>\n",
       "      <td>(Jersey)</td>\n",
       "      <td>0.071</td>\n",
       "      <td>0.427711</td>\n",
       "      <td>1.018359</td>\n",
       "    </tr>\n",
       "  </tbody>\n",
       "</table>\n",
       "</div>"
      ],
      "text/plain": [
       "        antecedents       consequents  support  confidence      lift\n",
       "0          (Jersey)            (Bike)    0.180    0.428571  1.071429\n",
       "1            (Bike)          (Jersey)    0.180    0.450000  1.071429\n",
       "2  (Jersey, Helmet)            (Bike)    0.071    0.420118  1.050296\n",
       "5            (Bike)  (Jersey, Helmet)    0.071    0.177500  1.050296\n",
       "3    (Bike, Helmet)          (Jersey)    0.071    0.427711  1.018359"
      ]
     },
     "execution_count": 6,
     "metadata": {},
     "output_type": "execute_result"
    }
   ],
   "source": [
    "# Apriori\n",
    "frequent = apriori(df_encoded, min_support=0.02, use_colnames=True)\n",
    "rules = association_rules(frequent, metric=\"lift\", min_threshold=1.0)\n",
    "rules[['antecedents', 'consequents', 'support', 'confidence', 'lift']].sort_values(by='lift', ascending=False).head()"
   ]
  },
  {
   "cell_type": "code",
   "execution_count": null,
   "id": "6587c5d3-640b-428b-bc69-c63d150d51c5",
   "metadata": {},
   "outputs": [],
   "source": []
  }
 ],
 "metadata": {
  "kernelspec": {
   "display_name": "Python 3 (ipykernel)",
   "language": "python",
   "name": "python3"
  },
  "language_info": {
   "codemirror_mode": {
    "name": "ipython",
    "version": 3
   },
   "file_extension": ".py",
   "mimetype": "text/x-python",
   "name": "python",
   "nbconvert_exporter": "python",
   "pygments_lexer": "ipython3",
   "version": "3.12.3"
  }
 },
 "nbformat": 4,
 "nbformat_minor": 5
}
