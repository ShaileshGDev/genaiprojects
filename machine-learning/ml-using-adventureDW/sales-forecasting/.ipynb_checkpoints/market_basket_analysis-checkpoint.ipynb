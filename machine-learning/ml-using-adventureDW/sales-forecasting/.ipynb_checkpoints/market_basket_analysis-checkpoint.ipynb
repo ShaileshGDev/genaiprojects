{
 "cells": [
  {
   "cell_type": "markdown",
   "id": "a70c6b79",
   "metadata": {},
   "source": [
    "# 🛒 Market Basket Analysis using Apriori"
   ]
  },
  {
   "cell_type": "code",
   "execution_count": null,
   "id": "2bf8bd3f",
   "metadata": {},
   "outputs": [],
   "source": [
    "import pandas as pd\n",
    "from mlxtend.frequent_patterns import apriori, association_rules\n",
    "from mlxtend.preprocessing import TransactionEncoder"
   ]
  },
  {
   "cell_type": "code",
   "execution_count": null,
   "id": "491e1f9a",
   "metadata": {},
   "outputs": [],
   "source": [
    "df = pd.read_csv(\"market_basket.csv\")\n",
    "df.head()"
   ]
  },
  {
   "cell_type": "code",
   "execution_count": null,
   "id": "6b6ec688",
   "metadata": {},
   "outputs": [],
   "source": [
    "# Group into transactions\n",
    "transactions = df.groupby(\"OrderID\")['Product'].apply(list).tolist()"
   ]
  },
  {
   "cell_type": "code",
   "execution_count": null,
   "id": "c44d276e",
   "metadata": {},
   "outputs": [],
   "source": [
    "# Encode\n",
    "te = TransactionEncoder()\n",
    "te_ary = te.fit(transactions).transform(transactions)\n",
    "df_encoded = pd.DataFrame(te_ary, columns=te.columns_)"
   ]
  },
  {
   "cell_type": "code",
   "execution_count": null,
   "id": "fa06fdc8",
   "metadata": {},
   "outputs": [],
   "source": [
    "# Apriori\n",
    "frequent = apriori(df_encoded, min_support=0.02, use_colnames=True)\n",
    "rules = association_rules(frequent, metric=\"lift\", min_threshold=1.0)\n",
    "rules[['antecedents', 'consequents', 'support', 'confidence', 'lift']].sort_values(by='lift', ascending=False).head()"
   ]
  }
 ],
 "metadata": {},
 "nbformat": 4,
 "nbformat_minor": 5
}
