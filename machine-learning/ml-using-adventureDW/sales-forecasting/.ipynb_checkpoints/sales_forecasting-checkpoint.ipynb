{
 "cells": [
  {
   "cell_type": "markdown",
   "id": "e43c7c83",
   "metadata": {},
   "source": [
    "# 📈 Sales Forecasting with Linear Regression and Prophet"
   ]
  },
  {
   "cell_type": "code",
   "execution_count": null,
   "id": "0a4bf124",
   "metadata": {},
   "outputs": [],
   "source": [
    "import pandas as pd\n",
    "import numpy as np\n",
    "import matplotlib.pyplot as plt\n",
    "from sklearn.linear_model import LinearRegression\n",
    "import seaborn as sns\n",
    "sns.set(style=\"whitegrid\")"
   ]
  },
  {
   "cell_type": "code",
   "execution_count": null,
   "id": "d7c0daab",
   "metadata": {},
   "outputs": [],
   "source": [
    "df = pd.read_csv(\"sales_forecasting.csv\")\n",
    "df['Month'] = pd.to_datetime(df['Month'])\n",
    "df.head()"
   ]
  },
  {
   "cell_type": "code",
   "execution_count": null,
   "id": "b535569b",
   "metadata": {},
   "outputs": [],
   "source": [
    "# Filter for one category\n",
    "category = 'Bikes'\n",
    "df_cat = df[df['Category'] == category].copy()\n",
    "df_cat['MonthIndex'] = np.arange(len(df_cat))"
   ]
  },
  {
   "cell_type": "code",
   "execution_count": null,
   "id": "b1af9e4e",
   "metadata": {},
   "outputs": [],
   "source": [
    "# Linear Regression\n",
    "model = LinearRegression()\n",
    "model.fit(df_cat[['MonthIndex']], df_cat['SalesAmount'])\n",
    "df_cat['Forecast'] = model.predict(df_cat[['MonthIndex']])\n",
    "\n",
    "plt.figure(figsize=(10,5))\n",
    "plt.plot(df_cat['Month'], df_cat['SalesAmount'], label='Actual')\n",
    "plt.plot(df_cat['Month'], df_cat['Forecast'], label='Forecast')\n",
    "plt.legend()\n",
    "plt.title(f\"{category} Sales Forecast\")\n",
    "plt.show()"
   ]
  },
  {
   "cell_type": "code",
   "execution_count": null,
   "id": "e694b37f",
   "metadata": {},
   "outputs": [],
   "source": [
    "# Optional: Prophet forecasting\n",
    "try:\n",
    "    from prophet import Prophet\n",
    "    df_prophet = df_cat[['Month', 'SalesAmount']].rename(columns={\"Month\": \"ds\", \"SalesAmount\": \"y\"})\n",
    "    m = Prophet()\n",
    "    m.fit(df_prophet)\n",
    "    future = m.make_future_dataframe(periods=12, freq='MS')\n",
    "    forecast = m.predict(future)\n",
    "    fig = m.plot(forecast)\n",
    "except ImportError:\n",
    "    print(\"Prophet not installed. Skipping Prophet forecast.\")"
   ]
  }
 ],
 "metadata": {},
 "nbformat": 4,
 "nbformat_minor": 5
}
